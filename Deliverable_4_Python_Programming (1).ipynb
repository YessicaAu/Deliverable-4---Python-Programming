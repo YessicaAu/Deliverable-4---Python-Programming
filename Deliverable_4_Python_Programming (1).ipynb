{
  "nbformat": 4,
  "nbformat_minor": 0,
  "metadata": {
    "colab": {
      "provenance": []
    },
    "kernelspec": {
      "name": "python3",
      "display_name": "Python 3"
    },
    "language_info": {
      "name": "python"
    }
  },
  "cells": [
    {
      "cell_type": "code",
      "source": [
        "#To generate random numbers\n",
        "import numpy as np"
      ],
      "metadata": {
        "id": "huNCWiayywgY"
      },
      "execution_count": 42,
      "outputs": []
    },
    {
      "cell_type": "code",
      "source": [
        "#Method 1 to randomly populate a list with integers numbers between 10 and 50.\n",
        "def random_list(length):\n",
        "    return [np.random.randint(10, 50) for i in range(length)]"
      ],
      "metadata": {
        "id": "NjhmvKvAygxF"
      },
      "execution_count": 43,
      "outputs": []
    },
    {
      "cell_type": "code",
      "source": [
        "#Method 2 to return the summation of all the elements of a list\n",
        "def the_summation(The_sum_list):\n",
        "  return sum(The_sum_list)"
      ],
      "metadata": {
        "id": "bg_Bhjvvy4uX"
      },
      "execution_count": 44,
      "outputs": []
    },
    {
      "cell_type": "code",
      "execution_count": 46,
      "metadata": {
        "colab": {
          "base_uri": "https://localhost:8080/"
        },
        "id": "e5UVwaEsyNrh",
        "outputId": "790450d8-77ad-424b-9cfc-281a9763a48f"
      },
      "outputs": [
        {
          "output_type": "stream",
          "name": "stdout",
          "text": [
            "Please enter integer between 5 and 15: 2\n",
            "Please enter a valid integer number and try again\n",
            "Please enter integer between 5 and 15: 10\n",
            "The elements of the arrays are: [48, 35, 13, 30, 38, 14, 38, 43, 43, 34]\n",
            "The sum is: 336\n"
          ]
        }
      ],
      "source": [
        "#To execute methods both methods and loop at invalid input\n",
        "while True:\n",
        "  user_input = int(input(\"Please enter integer between 5 and 15: \"))\n",
        "  if 5 <= user_input <= 15:\n",
        "    populate_list = random_list(user_input)\n",
        "    print(\"The elements of the arrays are:\", populate_list)\n",
        "    print(\"The sum is:\", sum(populate_list))\n",
        "    break;\n",
        "  else:\n",
        "    print(\"Please enter a valid integer and try again\")"
      ]
    }
  ]
}